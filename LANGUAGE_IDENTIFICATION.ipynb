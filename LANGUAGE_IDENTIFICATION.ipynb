{
  "nbformat": 4,
  "nbformat_minor": 0,
  "metadata": {
    "colab": {
      "provenance": [],
      "gpuType": "T4"
    },
    "kernelspec": {
      "name": "python3",
      "display_name": "Python 3"
    },
    "language_info": {
      "name": "python"
    },
    "accelerator": "GPU"
  },
  "cells": [
    {
      "cell_type": "code",
      "source": [
        "!mkdir -p ~/.kaggle\n",
        "!cp kaggle.json ~/.kaggle/\n",
        "!chmod 600 ~/.kaggle/kaggle.json"
      ],
      "metadata": {
        "id": "PfUB8HmDFy-c"
      },
      "execution_count": null,
      "outputs": []
    },
    {
      "cell_type": "code",
      "source": [
        "!kaggle datasets download -d zarajamshaid/language-identification-datasst"
      ],
      "metadata": {
        "colab": {
          "base_uri": "https://localhost:8080/"
        },
        "id": "J_zhWZT2FzA-",
        "outputId": "dcf6660d-c016-4542-a726-b0666cdababc"
      },
      "execution_count": 2,
      "outputs": [
        {
          "output_type": "stream",
          "name": "stdout",
          "text": [
            "Downloading language-identification-datasst.zip to /content\n",
            " 72% 4.00M/5.53M [00:01<00:00, 4.52MB/s]\n",
            "100% 5.53M/5.53M [00:01<00:00, 4.29MB/s]\n"
          ]
        }
      ]
    },
    {
      "cell_type": "code",
      "source": [
        "from zipfile import ZipFile\n",
        "dataset = '/content/language-identification-datasst.zip'\n",
        "\n",
        "with ZipFile(dataset,'r') as zip:\n",
        "  zip.extractall()\n",
        "  print('The dataset is extracted')"
      ],
      "metadata": {
        "colab": {
          "base_uri": "https://localhost:8080/"
        },
        "id": "FrcQLeG_FzD4",
        "outputId": "a35c77cc-b620-4379-86d1-d41425c3a88f"
      },
      "execution_count": 3,
      "outputs": [
        {
          "output_type": "stream",
          "name": "stdout",
          "text": [
            "The dataset is extracted\n"
          ]
        }
      ]
    },
    {
      "cell_type": "code",
      "source": [
        "import numpy as np\n",
        "import pandas as pd"
      ],
      "metadata": {
        "id": "4WMDYsAzFzGh"
      },
      "execution_count": 4,
      "outputs": []
    },
    {
      "cell_type": "code",
      "source": [
        "data=pd.read_csv('/content/dataset.csv')\n",
        "data.head()"
      ],
      "metadata": {
        "colab": {
          "base_uri": "https://localhost:8080/",
          "height": 206
        },
        "id": "2pjca4YpFzIk",
        "outputId": "10295d5a-dc26-47d2-c0be-0b2c8df18bd9"
      },
      "execution_count": 5,
      "outputs": [
        {
          "output_type": "execute_result",
          "data": {
            "text/plain": [
              "                                                Text  language\n",
              "0  klement gottwaldi surnukeha palsameeriti ning ...  Estonian\n",
              "1  sebes joseph pereira thomas  på eng the jesuit...   Swedish\n",
              "2  ถนนเจริญกรุง อักษรโรมัน thanon charoen krung เ...      Thai\n",
              "3  விசாகப்பட்டினம் தமிழ்ச்சங்கத்தை இந்துப் பத்திர...     Tamil\n",
              "4  de spons behoort tot het geslacht haliclona en...     Dutch"
            ],
            "text/html": [
              "\n",
              "  <div id=\"df-5b7927b9-eac7-44a4-aff2-1020af6e345b\" class=\"colab-df-container\">\n",
              "    <div>\n",
              "<style scoped>\n",
              "    .dataframe tbody tr th:only-of-type {\n",
              "        vertical-align: middle;\n",
              "    }\n",
              "\n",
              "    .dataframe tbody tr th {\n",
              "        vertical-align: top;\n",
              "    }\n",
              "\n",
              "    .dataframe thead th {\n",
              "        text-align: right;\n",
              "    }\n",
              "</style>\n",
              "<table border=\"1\" class=\"dataframe\">\n",
              "  <thead>\n",
              "    <tr style=\"text-align: right;\">\n",
              "      <th></th>\n",
              "      <th>Text</th>\n",
              "      <th>language</th>\n",
              "    </tr>\n",
              "  </thead>\n",
              "  <tbody>\n",
              "    <tr>\n",
              "      <th>0</th>\n",
              "      <td>klement gottwaldi surnukeha palsameeriti ning ...</td>\n",
              "      <td>Estonian</td>\n",
              "    </tr>\n",
              "    <tr>\n",
              "      <th>1</th>\n",
              "      <td>sebes joseph pereira thomas  på eng the jesuit...</td>\n",
              "      <td>Swedish</td>\n",
              "    </tr>\n",
              "    <tr>\n",
              "      <th>2</th>\n",
              "      <td>ถนนเจริญกรุง อักษรโรมัน thanon charoen krung เ...</td>\n",
              "      <td>Thai</td>\n",
              "    </tr>\n",
              "    <tr>\n",
              "      <th>3</th>\n",
              "      <td>விசாகப்பட்டினம் தமிழ்ச்சங்கத்தை இந்துப் பத்திர...</td>\n",
              "      <td>Tamil</td>\n",
              "    </tr>\n",
              "    <tr>\n",
              "      <th>4</th>\n",
              "      <td>de spons behoort tot het geslacht haliclona en...</td>\n",
              "      <td>Dutch</td>\n",
              "    </tr>\n",
              "  </tbody>\n",
              "</table>\n",
              "</div>\n",
              "    <div class=\"colab-df-buttons\">\n",
              "\n",
              "  <div class=\"colab-df-container\">\n",
              "    <button class=\"colab-df-convert\" onclick=\"convertToInteractive('df-5b7927b9-eac7-44a4-aff2-1020af6e345b')\"\n",
              "            title=\"Convert this dataframe to an interactive table.\"\n",
              "            style=\"display:none;\">\n",
              "\n",
              "  <svg xmlns=\"http://www.w3.org/2000/svg\" height=\"24px\" viewBox=\"0 -960 960 960\">\n",
              "    <path d=\"M120-120v-720h720v720H120Zm60-500h600v-160H180v160Zm220 220h160v-160H400v160Zm0 220h160v-160H400v160ZM180-400h160v-160H180v160Zm440 0h160v-160H620v160ZM180-180h160v-160H180v160Zm440 0h160v-160H620v160Z\"/>\n",
              "  </svg>\n",
              "    </button>\n",
              "\n",
              "  <style>\n",
              "    .colab-df-container {\n",
              "      display:flex;\n",
              "      gap: 12px;\n",
              "    }\n",
              "\n",
              "    .colab-df-convert {\n",
              "      background-color: #E8F0FE;\n",
              "      border: none;\n",
              "      border-radius: 50%;\n",
              "      cursor: pointer;\n",
              "      display: none;\n",
              "      fill: #1967D2;\n",
              "      height: 32px;\n",
              "      padding: 0 0 0 0;\n",
              "      width: 32px;\n",
              "    }\n",
              "\n",
              "    .colab-df-convert:hover {\n",
              "      background-color: #E2EBFA;\n",
              "      box-shadow: 0px 1px 2px rgba(60, 64, 67, 0.3), 0px 1px 3px 1px rgba(60, 64, 67, 0.15);\n",
              "      fill: #174EA6;\n",
              "    }\n",
              "\n",
              "    .colab-df-buttons div {\n",
              "      margin-bottom: 4px;\n",
              "    }\n",
              "\n",
              "    [theme=dark] .colab-df-convert {\n",
              "      background-color: #3B4455;\n",
              "      fill: #D2E3FC;\n",
              "    }\n",
              "\n",
              "    [theme=dark] .colab-df-convert:hover {\n",
              "      background-color: #434B5C;\n",
              "      box-shadow: 0px 1px 3px 1px rgba(0, 0, 0, 0.15);\n",
              "      filter: drop-shadow(0px 1px 2px rgba(0, 0, 0, 0.3));\n",
              "      fill: #FFFFFF;\n",
              "    }\n",
              "  </style>\n",
              "\n",
              "    <script>\n",
              "      const buttonEl =\n",
              "        document.querySelector('#df-5b7927b9-eac7-44a4-aff2-1020af6e345b button.colab-df-convert');\n",
              "      buttonEl.style.display =\n",
              "        google.colab.kernel.accessAllowed ? 'block' : 'none';\n",
              "\n",
              "      async function convertToInteractive(key) {\n",
              "        const element = document.querySelector('#df-5b7927b9-eac7-44a4-aff2-1020af6e345b');\n",
              "        const dataTable =\n",
              "          await google.colab.kernel.invokeFunction('convertToInteractive',\n",
              "                                                    [key], {});\n",
              "        if (!dataTable) return;\n",
              "\n",
              "        const docLinkHtml = 'Like what you see? Visit the ' +\n",
              "          '<a target=\"_blank\" href=https://colab.research.google.com/notebooks/data_table.ipynb>data table notebook</a>'\n",
              "          + ' to learn more about interactive tables.';\n",
              "        element.innerHTML = '';\n",
              "        dataTable['output_type'] = 'display_data';\n",
              "        await google.colab.output.renderOutput(dataTable, element);\n",
              "        const docLink = document.createElement('div');\n",
              "        docLink.innerHTML = docLinkHtml;\n",
              "        element.appendChild(docLink);\n",
              "      }\n",
              "    </script>\n",
              "  </div>\n",
              "\n",
              "\n",
              "<div id=\"df-43d18626-9bc8-4dd3-acc2-b8888c07f5ef\">\n",
              "  <button class=\"colab-df-quickchart\" onclick=\"quickchart('df-43d18626-9bc8-4dd3-acc2-b8888c07f5ef')\"\n",
              "            title=\"Suggest charts\"\n",
              "            style=\"display:none;\">\n",
              "\n",
              "<svg xmlns=\"http://www.w3.org/2000/svg\" height=\"24px\"viewBox=\"0 0 24 24\"\n",
              "     width=\"24px\">\n",
              "    <g>\n",
              "        <path d=\"M19 3H5c-1.1 0-2 .9-2 2v14c0 1.1.9 2 2 2h14c1.1 0 2-.9 2-2V5c0-1.1-.9-2-2-2zM9 17H7v-7h2v7zm4 0h-2V7h2v10zm4 0h-2v-4h2v4z\"/>\n",
              "    </g>\n",
              "</svg>\n",
              "  </button>\n",
              "\n",
              "<style>\n",
              "  .colab-df-quickchart {\n",
              "      --bg-color: #E8F0FE;\n",
              "      --fill-color: #1967D2;\n",
              "      --hover-bg-color: #E2EBFA;\n",
              "      --hover-fill-color: #174EA6;\n",
              "      --disabled-fill-color: #AAA;\n",
              "      --disabled-bg-color: #DDD;\n",
              "  }\n",
              "\n",
              "  [theme=dark] .colab-df-quickchart {\n",
              "      --bg-color: #3B4455;\n",
              "      --fill-color: #D2E3FC;\n",
              "      --hover-bg-color: #434B5C;\n",
              "      --hover-fill-color: #FFFFFF;\n",
              "      --disabled-bg-color: #3B4455;\n",
              "      --disabled-fill-color: #666;\n",
              "  }\n",
              "\n",
              "  .colab-df-quickchart {\n",
              "    background-color: var(--bg-color);\n",
              "    border: none;\n",
              "    border-radius: 50%;\n",
              "    cursor: pointer;\n",
              "    display: none;\n",
              "    fill: var(--fill-color);\n",
              "    height: 32px;\n",
              "    padding: 0;\n",
              "    width: 32px;\n",
              "  }\n",
              "\n",
              "  .colab-df-quickchart:hover {\n",
              "    background-color: var(--hover-bg-color);\n",
              "    box-shadow: 0 1px 2px rgba(60, 64, 67, 0.3), 0 1px 3px 1px rgba(60, 64, 67, 0.15);\n",
              "    fill: var(--button-hover-fill-color);\n",
              "  }\n",
              "\n",
              "  .colab-df-quickchart-complete:disabled,\n",
              "  .colab-df-quickchart-complete:disabled:hover {\n",
              "    background-color: var(--disabled-bg-color);\n",
              "    fill: var(--disabled-fill-color);\n",
              "    box-shadow: none;\n",
              "  }\n",
              "\n",
              "  .colab-df-spinner {\n",
              "    border: 2px solid var(--fill-color);\n",
              "    border-color: transparent;\n",
              "    border-bottom-color: var(--fill-color);\n",
              "    animation:\n",
              "      spin 1s steps(1) infinite;\n",
              "  }\n",
              "\n",
              "  @keyframes spin {\n",
              "    0% {\n",
              "      border-color: transparent;\n",
              "      border-bottom-color: var(--fill-color);\n",
              "      border-left-color: var(--fill-color);\n",
              "    }\n",
              "    20% {\n",
              "      border-color: transparent;\n",
              "      border-left-color: var(--fill-color);\n",
              "      border-top-color: var(--fill-color);\n",
              "    }\n",
              "    30% {\n",
              "      border-color: transparent;\n",
              "      border-left-color: var(--fill-color);\n",
              "      border-top-color: var(--fill-color);\n",
              "      border-right-color: var(--fill-color);\n",
              "    }\n",
              "    40% {\n",
              "      border-color: transparent;\n",
              "      border-right-color: var(--fill-color);\n",
              "      border-top-color: var(--fill-color);\n",
              "    }\n",
              "    60% {\n",
              "      border-color: transparent;\n",
              "      border-right-color: var(--fill-color);\n",
              "    }\n",
              "    80% {\n",
              "      border-color: transparent;\n",
              "      border-right-color: var(--fill-color);\n",
              "      border-bottom-color: var(--fill-color);\n",
              "    }\n",
              "    90% {\n",
              "      border-color: transparent;\n",
              "      border-bottom-color: var(--fill-color);\n",
              "    }\n",
              "  }\n",
              "</style>\n",
              "\n",
              "  <script>\n",
              "    async function quickchart(key) {\n",
              "      const quickchartButtonEl =\n",
              "        document.querySelector('#' + key + ' button');\n",
              "      quickchartButtonEl.disabled = true;  // To prevent multiple clicks.\n",
              "      quickchartButtonEl.classList.add('colab-df-spinner');\n",
              "      try {\n",
              "        const charts = await google.colab.kernel.invokeFunction(\n",
              "            'suggestCharts', [key], {});\n",
              "      } catch (error) {\n",
              "        console.error('Error during call to suggestCharts:', error);\n",
              "      }\n",
              "      quickchartButtonEl.classList.remove('colab-df-spinner');\n",
              "      quickchartButtonEl.classList.add('colab-df-quickchart-complete');\n",
              "    }\n",
              "    (() => {\n",
              "      let quickchartButtonEl =\n",
              "        document.querySelector('#df-43d18626-9bc8-4dd3-acc2-b8888c07f5ef button');\n",
              "      quickchartButtonEl.style.display =\n",
              "        google.colab.kernel.accessAllowed ? 'block' : 'none';\n",
              "    })();\n",
              "  </script>\n",
              "</div>\n",
              "\n",
              "    </div>\n",
              "  </div>\n"
            ]
          },
          "metadata": {},
          "execution_count": 5
        }
      ]
    },
    {
      "cell_type": "code",
      "source": [
        "data['Text'][1]"
      ],
      "metadata": {
        "colab": {
          "base_uri": "https://localhost:8080/",
          "height": 53
        },
        "id": "uthHMEJcR4e2",
        "outputId": "13247da9-bae5-4bf3-c10f-a0a76d974a68"
      },
      "execution_count": 6,
      "outputs": [
        {
          "output_type": "execute_result",
          "data": {
            "text/plain": [
              "'sebes joseph pereira thomas  på eng the jesuits and the sino-russian treaty of nerchinsk  the diary of thomas pereira bibliotheca instituti historici s i --   rome libris '"
            ],
            "application/vnd.google.colaboratory.intrinsic+json": {
              "type": "string"
            }
          },
          "metadata": {},
          "execution_count": 6
        }
      ]
    },
    {
      "cell_type": "code",
      "source": [
        "data['language'].value_counts()"
      ],
      "metadata": {
        "colab": {
          "base_uri": "https://localhost:8080/"
        },
        "id": "PgN8UulsFzK8",
        "outputId": "0fbadbeb-00fa-423d-b788-c98d855624a6"
      },
      "execution_count": 7,
      "outputs": [
        {
          "output_type": "execute_result",
          "data": {
            "text/plain": [
              "Estonian      1000\n",
              "Swedish       1000\n",
              "English       1000\n",
              "Russian       1000\n",
              "Romanian      1000\n",
              "Persian       1000\n",
              "Pushto        1000\n",
              "Spanish       1000\n",
              "Hindi         1000\n",
              "Korean        1000\n",
              "Chinese       1000\n",
              "French        1000\n",
              "Portugese     1000\n",
              "Indonesian    1000\n",
              "Urdu          1000\n",
              "Latin         1000\n",
              "Turkish       1000\n",
              "Japanese      1000\n",
              "Dutch         1000\n",
              "Tamil         1000\n",
              "Thai          1000\n",
              "Arabic        1000\n",
              "Name: language, dtype: int64"
            ]
          },
          "metadata": {},
          "execution_count": 7
        }
      ]
    },
    {
      "cell_type": "code",
      "source": [
        "data.shape"
      ],
      "metadata": {
        "colab": {
          "base_uri": "https://localhost:8080/"
        },
        "id": "UjCK5XKyFzNh",
        "outputId": "0d2d4173-fe3d-4d5d-acee-9860b0377671"
      },
      "execution_count": 8,
      "outputs": [
        {
          "output_type": "execute_result",
          "data": {
            "text/plain": [
              "(22000, 2)"
            ]
          },
          "metadata": {},
          "execution_count": 8
        }
      ]
    },
    {
      "cell_type": "code",
      "source": [
        "data.info()"
      ],
      "metadata": {
        "colab": {
          "base_uri": "https://localhost:8080/"
        },
        "id": "_8w2tn0FFzP6",
        "outputId": "fc8be642-e9ff-40dc-8fec-d09f3e1599bc"
      },
      "execution_count": 9,
      "outputs": [
        {
          "output_type": "stream",
          "name": "stdout",
          "text": [
            "<class 'pandas.core.frame.DataFrame'>\n",
            "RangeIndex: 22000 entries, 0 to 21999\n",
            "Data columns (total 2 columns):\n",
            " #   Column    Non-Null Count  Dtype \n",
            "---  ------    --------------  ----- \n",
            " 0   Text      22000 non-null  object\n",
            " 1   language  22000 non-null  object\n",
            "dtypes: object(2)\n",
            "memory usage: 343.9+ KB\n"
          ]
        }
      ]
    },
    {
      "cell_type": "code",
      "source": [
        "x=data.iloc[:,:1]"
      ],
      "metadata": {
        "id": "GvDGxhr0FzSg"
      },
      "execution_count": 10,
      "outputs": []
    },
    {
      "cell_type": "code",
      "source": [
        "print(x)"
      ],
      "metadata": {
        "colab": {
          "base_uri": "https://localhost:8080/"
        },
        "id": "FNgjTGAsHnYt",
        "outputId": "dcd25479-a348-475f-fdde-1265c95bdfc0"
      },
      "execution_count": 11,
      "outputs": [
        {
          "output_type": "stream",
          "name": "stdout",
          "text": [
            "                                                    Text\n",
            "0      klement gottwaldi surnukeha palsameeriti ning ...\n",
            "1      sebes joseph pereira thomas  på eng the jesuit...\n",
            "2      ถนนเจริญกรุง อักษรโรมัน thanon charoen krung เ...\n",
            "3      விசாகப்பட்டினம் தமிழ்ச்சங்கத்தை இந்துப் பத்திர...\n",
            "4      de spons behoort tot het geslacht haliclona en...\n",
            "...                                                  ...\n",
            "21995  hors du terrain les années  et  sont des année...\n",
            "21996  ใน พศ  หลักจากที่เสด็จประพาสแหลมมลายู ชวา อินเ...\n",
            "21997  con motivo de la celebración del septuagésimoq...\n",
            "21998  年月，當時還只有歲的她在美國出道，以mai-k名義推出首張英文《baby i like》，由...\n",
            "21999   aprilie sonda spațială messenger a nasa și-a ...\n",
            "\n",
            "[22000 rows x 1 columns]\n"
          ]
        }
      ]
    },
    {
      "cell_type": "code",
      "source": [
        "data['language'].unique()"
      ],
      "metadata": {
        "colab": {
          "base_uri": "https://localhost:8080/"
        },
        "id": "S575k63ZPjzc",
        "outputId": "6c4b2219-eae1-497a-8a79-691f8cdee9fe"
      },
      "execution_count": 12,
      "outputs": [
        {
          "output_type": "execute_result",
          "data": {
            "text/plain": [
              "array(['Estonian', 'Swedish', 'Thai', 'Tamil', 'Dutch', 'Japanese',\n",
              "       'Turkish', 'Latin', 'Urdu', 'Indonesian', 'Portugese', 'French',\n",
              "       'Chinese', 'Korean', 'Hindi', 'Spanish', 'Pushto', 'Persian',\n",
              "       'Romanian', 'Russian', 'English', 'Arabic'], dtype=object)"
            ]
          },
          "metadata": {},
          "execution_count": 12
        }
      ]
    },
    {
      "cell_type": "code",
      "source": [
        "x=np.array(x)"
      ],
      "metadata": {
        "id": "S9GTts72Jl8K"
      },
      "execution_count": 13,
      "outputs": []
    },
    {
      "cell_type": "code",
      "source": [
        "data.replace({'language':{\n",
        "    'Estonian':0,\n",
        "    'Swedish':1,\n",
        "    'Thai':2,\n",
        "    'Tamil':3,\n",
        "    'Dutch':4,\n",
        "    'Japanese':5,\n",
        "    'Turkish':6,\n",
        "    'Latin':7,\n",
        "    'Urdu':8,\n",
        "    'Indonesian':9,\n",
        "    'Portugese':10,\n",
        "    'French':11,\n",
        "    'Chinese':12,\n",
        "    'Korean':13,\n",
        "    'Hindi':14,\n",
        "    'Spanish':15,\n",
        "    'Pushto':16,\n",
        "    'Persian':17,\n",
        "    'Romanian':18,\n",
        "    'Russian':19,\n",
        "    'English':20,\n",
        "    'Arabic':21\n",
        "}},inplace=True)"
      ],
      "metadata": {
        "id": "__eBtlVLPW5W"
      },
      "execution_count": 14,
      "outputs": []
    },
    {
      "cell_type": "code",
      "source": [
        "y=data.iloc[:,-1]"
      ],
      "metadata": {
        "id": "vUIVfBO1RJU1"
      },
      "execution_count": 15,
      "outputs": []
    },
    {
      "cell_type": "code",
      "source": [
        "from sklearn.model_selection import train_test_split\n",
        "x_train,x_test,y_train,y_test=train_test_split(x,y,test_size=0.2,random_state=0)"
      ],
      "metadata": {
        "id": "dZnVDFZSH4F-"
      },
      "execution_count": 16,
      "outputs": []
    },
    {
      "cell_type": "code",
      "source": [
        "print(x_train)"
      ],
      "metadata": {
        "colab": {
          "base_uri": "https://localhost:8080/"
        },
        "id": "ryQhFGFlHejG",
        "outputId": "0d0c9076-2f9b-4108-fbb2-49d7e0a57cd1"
      },
      "execution_count": 17,
      "outputs": [
        {
          "output_type": "stream",
          "name": "stdout",
          "text": [
            "[['傳真社發表相關調查報道後，運輸及房屋局局長張炳良否認知情。不過傳真社在月日引述政府消息人士所提供的資料，顯示運房局在年月日已接獲相關投訴。投訴指招標港鐵市區線新列車「不尋常」，並以附件點名投訴。投訴指出南車四方製造的新加坡地鐵列車次地板出現裂紋、港鐵購買市區線列車的資格預審過程倉卒，以及南車四方獲港鐵邀標令業界震驚。投訴人建議運房局要介入港鐵招標過程，要求在評審標書的過程中徹查和考慮承辦商過去表現。']\n",
            " ['industria una ferrería que solo trabaja en tiempo de invierno en cuya estación se fabrican  quintales de fierro con  molinos harineros']\n",
            " ['أسس راميرو تحالف مملكتي نافارا وليون الذي استطاع أن يهزم جيش عبد الرحمن الناصر لدين الله في معركة سيامنقة عام  وهو الانتصار الذي مكنه من تحريك حدود مملكة ليون من نهر دويرو إلى نهر نهر تورمس ']\n",
            " ...\n",
            " ['اعترض اعضاء مجلس النواب على قرار الحل فتدخل البوليس لإخراج الأعضاء بالقوة من المجلس وكان أحمد ماهر باشا رئيسا للمجلس وأمر بعدم مناقشة مرسوم تأليف الوزارة ومرسوم حل البرلمان فقرر الوفد فصله لتضامنه مع محمود فهمي النقراشي مرشحو القصر']\n",
            " ['după - de treceri la periheliu cometa pierde gazele și elementele ușoare volatile devenind o cometă bătrână nucleul cometelor se poate fragmenta în special când acestea trec în apropierea soarelui sau a unei planete astfel din nucleu se pot desprinde fragmente foarte mici de material meteoroizi']\n",
            " ['بربینک کیلیفورنیا کا رقبہ  مربع کیلومیٹر ہے اور اس کی مجموعی آبادی  افراد پر مشتمل ہے اور  میٹر سطح سمندر سے بلندی پر واقع ہے۔']]\n"
          ]
        }
      ]
    },
    {
      "cell_type": "code",
      "source": [
        "from sklearn.feature_extraction.text import TfidfVectorizer\n",
        "import numpy as np\n",
        "\n",
        "# Assuming x_train is a NumPy array with text data\n",
        "x_train_strings = np.array([str(text) for text in x_train])\n",
        "\n",
        "# Create the TfidfVectorizer and fit-transform the data\n",
        "feature_extraction = TfidfVectorizer()\n",
        "x_train_feature = feature_extraction.fit_transform(x_train_strings)"
      ],
      "metadata": {
        "id": "u8BHiMsOIiOO"
      },
      "execution_count": 18,
      "outputs": []
    },
    {
      "cell_type": "code",
      "source": [
        "print(x_train_feature)"
      ],
      "metadata": {
        "colab": {
          "base_uri": "https://localhost:8080/"
        },
        "id": "gP28CJrnJPB2",
        "outputId": "59003504-9b27-4cd1-80eb-ff5d0207b577"
      },
      "execution_count": 19,
      "outputs": [
        {
          "output_type": "stream",
          "name": "stdout",
          "text": [
            "  (0, 212020)\t0.28867513459481287\n",
            "  (0, 204806)\t0.28867513459481287\n",
            "  (0, 196486)\t0.28867513459481287\n",
            "  (0, 207952)\t0.28867513459481287\n",
            "  (0, 204807)\t0.28867513459481287\n",
            "  (0, 194802)\t0.28867513459481287\n",
            "  (0, 194549)\t0.28867513459481287\n",
            "  (0, 204808)\t0.28867513459481287\n",
            "  (0, 214382)\t0.28867513459481287\n",
            "  (0, 194620)\t0.28867513459481287\n",
            "  (0, 213394)\t0.28867513459481287\n",
            "  (0, 197382)\t0.28867513459481287\n",
            "  (1, 39701)\t0.2848778879894368\n",
            "  (1, 61652)\t0.2848778879894368\n",
            "  (1, 18009)\t0.14061190671822568\n",
            "  (1, 32923)\t0.2848778879894368\n",
            "  (1, 77602)\t0.2848778879894368\n",
            "  (1, 31860)\t0.2848778879894368\n",
            "  (1, 84494)\t0.10703431649432872\n",
            "  (1, 30352)\t0.26529335488386435\n",
            "  (1, 20778)\t0.24948168568488033\n",
            "  (1, 45083)\t0.24948168568488033\n",
            "  (1, 21686)\t0.13755994591628368\n",
            "  (1, 94577)\t0.21240650382432733\n",
            "  (1, 28828)\t0.17414800261055016\n",
            "  :\t:\n",
            "  (17598, 24414)\t0.08877118275229476\n",
            "  (17598, 108531)\t0.0855409117062864\n",
            "  (17598, 84494)\t0.14399090434170317\n",
            "  (17598, 21686)\t0.09252818003808606\n",
            "  (17599, 134558)\t0.30421118749983156\n",
            "  (17599, 167845)\t0.26238390413484897\n",
            "  (17599, 145779)\t0.21027018135280373\n",
            "  (17599, 154742)\t0.19216526457993607\n",
            "  (17599, 126757)\t0.19003459083758772\n",
            "  (17599, 167840)\t0.20476917403902878\n",
            "  (17599, 143913)\t0.19871453638230271\n",
            "  (17599, 123869)\t0.19143819308158172\n",
            "  (17599, 156718)\t0.19608922849431382\n",
            "  (17599, 135220)\t0.19826081343905538\n",
            "  (17599, 153747)\t0.2006009010396801\n",
            "  (17599, 159280)\t0.1584108236386233\n",
            "  (17599, 126060)\t0.14287822089259783\n",
            "  (17599, 146561)\t0.13785997599220626\n",
            "  (17599, 166419)\t0.13749718195613203\n",
            "  (17599, 154217)\t0.18528575304702397\n",
            "  (17599, 132337)\t0.271491793984988\n",
            "  (17599, 168816)\t0.40571921325521115\n",
            "  (17599, 167784)\t0.1337172234142268\n",
            "  (17599, 164189)\t0.2813255335738478\n",
            "  (17599, 145534)\t0.1794449126153711\n"
          ]
        }
      ]
    },
    {
      "cell_type": "code",
      "source": [
        "from sklearn.ensemble import RandomForestClassifier\n",
        "rf_model = RandomForestClassifier(n_estimators=100, random_state=42)\n",
        "rf_model.fit(x_train_feature,y_train)"
      ],
      "metadata": {
        "colab": {
          "base_uri": "https://localhost:8080/",
          "height": 74
        },
        "id": "zHPsjWyMRYB1",
        "outputId": "a8543cb8-4cb4-45fb-aa05-7132478141db"
      },
      "execution_count": 20,
      "outputs": [
        {
          "output_type": "execute_result",
          "data": {
            "text/plain": [
              "RandomForestClassifier(random_state=42)"
            ],
            "text/html": [
              "<style>#sk-container-id-1 {color: black;background-color: white;}#sk-container-id-1 pre{padding: 0;}#sk-container-id-1 div.sk-toggleable {background-color: white;}#sk-container-id-1 label.sk-toggleable__label {cursor: pointer;display: block;width: 100%;margin-bottom: 0;padding: 0.3em;box-sizing: border-box;text-align: center;}#sk-container-id-1 label.sk-toggleable__label-arrow:before {content: \"▸\";float: left;margin-right: 0.25em;color: #696969;}#sk-container-id-1 label.sk-toggleable__label-arrow:hover:before {color: black;}#sk-container-id-1 div.sk-estimator:hover label.sk-toggleable__label-arrow:before {color: black;}#sk-container-id-1 div.sk-toggleable__content {max-height: 0;max-width: 0;overflow: hidden;text-align: left;background-color: #f0f8ff;}#sk-container-id-1 div.sk-toggleable__content pre {margin: 0.2em;color: black;border-radius: 0.25em;background-color: #f0f8ff;}#sk-container-id-1 input.sk-toggleable__control:checked~div.sk-toggleable__content {max-height: 200px;max-width: 100%;overflow: auto;}#sk-container-id-1 input.sk-toggleable__control:checked~label.sk-toggleable__label-arrow:before {content: \"▾\";}#sk-container-id-1 div.sk-estimator input.sk-toggleable__control:checked~label.sk-toggleable__label {background-color: #d4ebff;}#sk-container-id-1 div.sk-label input.sk-toggleable__control:checked~label.sk-toggleable__label {background-color: #d4ebff;}#sk-container-id-1 input.sk-hidden--visually {border: 0;clip: rect(1px 1px 1px 1px);clip: rect(1px, 1px, 1px, 1px);height: 1px;margin: -1px;overflow: hidden;padding: 0;position: absolute;width: 1px;}#sk-container-id-1 div.sk-estimator {font-family: monospace;background-color: #f0f8ff;border: 1px dotted black;border-radius: 0.25em;box-sizing: border-box;margin-bottom: 0.5em;}#sk-container-id-1 div.sk-estimator:hover {background-color: #d4ebff;}#sk-container-id-1 div.sk-parallel-item::after {content: \"\";width: 100%;border-bottom: 1px solid gray;flex-grow: 1;}#sk-container-id-1 div.sk-label:hover label.sk-toggleable__label {background-color: #d4ebff;}#sk-container-id-1 div.sk-serial::before {content: \"\";position: absolute;border-left: 1px solid gray;box-sizing: border-box;top: 0;bottom: 0;left: 50%;z-index: 0;}#sk-container-id-1 div.sk-serial {display: flex;flex-direction: column;align-items: center;background-color: white;padding-right: 0.2em;padding-left: 0.2em;position: relative;}#sk-container-id-1 div.sk-item {position: relative;z-index: 1;}#sk-container-id-1 div.sk-parallel {display: flex;align-items: stretch;justify-content: center;background-color: white;position: relative;}#sk-container-id-1 div.sk-item::before, #sk-container-id-1 div.sk-parallel-item::before {content: \"\";position: absolute;border-left: 1px solid gray;box-sizing: border-box;top: 0;bottom: 0;left: 50%;z-index: -1;}#sk-container-id-1 div.sk-parallel-item {display: flex;flex-direction: column;z-index: 1;position: relative;background-color: white;}#sk-container-id-1 div.sk-parallel-item:first-child::after {align-self: flex-end;width: 50%;}#sk-container-id-1 div.sk-parallel-item:last-child::after {align-self: flex-start;width: 50%;}#sk-container-id-1 div.sk-parallel-item:only-child::after {width: 0;}#sk-container-id-1 div.sk-dashed-wrapped {border: 1px dashed gray;margin: 0 0.4em 0.5em 0.4em;box-sizing: border-box;padding-bottom: 0.4em;background-color: white;}#sk-container-id-1 div.sk-label label {font-family: monospace;font-weight: bold;display: inline-block;line-height: 1.2em;}#sk-container-id-1 div.sk-label-container {text-align: center;}#sk-container-id-1 div.sk-container {/* jupyter's `normalize.less` sets `[hidden] { display: none; }` but bootstrap.min.css set `[hidden] { display: none !important; }` so we also need the `!important` here to be able to override the default hidden behavior on the sphinx rendered scikit-learn.org. See: https://github.com/scikit-learn/scikit-learn/issues/21755 */display: inline-block !important;position: relative;}#sk-container-id-1 div.sk-text-repr-fallback {display: none;}</style><div id=\"sk-container-id-1\" class=\"sk-top-container\"><div class=\"sk-text-repr-fallback\"><pre>RandomForestClassifier(random_state=42)</pre><b>In a Jupyter environment, please rerun this cell to show the HTML representation or trust the notebook. <br />On GitHub, the HTML representation is unable to render, please try loading this page with nbviewer.org.</b></div><div class=\"sk-container\" hidden><div class=\"sk-item\"><div class=\"sk-estimator sk-toggleable\"><input class=\"sk-toggleable__control sk-hidden--visually\" id=\"sk-estimator-id-1\" type=\"checkbox\" checked><label for=\"sk-estimator-id-1\" class=\"sk-toggleable__label sk-toggleable__label-arrow\">RandomForestClassifier</label><div class=\"sk-toggleable__content\"><pre>RandomForestClassifier(random_state=42)</pre></div></div></div></div></div>"
            ]
          },
          "metadata": {},
          "execution_count": 20
        }
      ]
    },
    {
      "cell_type": "code",
      "source": [
        "y_pred=rf_model.predict(x_train_feature)\n",
        "print(y_pred)"
      ],
      "metadata": {
        "colab": {
          "base_uri": "https://localhost:8080/"
        },
        "id": "vY1BVERoLs7F",
        "outputId": "f588878c-eb86-46a0-a1aa-37ddbec28079"
      },
      "execution_count": 21,
      "outputs": [
        {
          "output_type": "stream",
          "name": "stdout",
          "text": [
            "[12 15 21 ... 21 18  8]\n"
          ]
        }
      ]
    },
    {
      "cell_type": "code",
      "source": [
        "from sklearn.metrics import accuracy_score\n",
        "ac=accuracy_score(y_pred,y_train)\n",
        "print(ac)"
      ],
      "metadata": {
        "colab": {
          "base_uri": "https://localhost:8080/"
        },
        "id": "VVtgU_yiMJJN",
        "outputId": "f3e9f8af-0115-408c-fd37-30e093f1da7b"
      },
      "execution_count": 22,
      "outputs": [
        {
          "output_type": "stream",
          "name": "stdout",
          "text": [
            "0.9999431818181819\n"
          ]
        }
      ]
    },
    {
      "cell_type": "code",
      "source": [
        "input_text=[\"傳真社發表相關調查報道後，運輸及房屋局局長張炳良否認知情。不過傳真社在月日引述政府消息人士所提供的資料，顯示運房局在年月日已接獲相關投訴。投訴指招標港鐵市區線新列車「不尋常」，並以附件點名投訴。投訴指出南車四方製造的新加坡地鐵列車次地板出現裂紋、港鐵購買市區線列車的資格預審過程倉卒，以及南車四方獲港鐵邀標令業界震驚。投訴人建議運房局要介入港鐵招標過程，要求在評審標書的過程中徹查和考慮承辦商過去表現。\"]\n",
        "input_text_feature_extraction=feature_extraction.transform(input_text)\n",
        "prediction=rf_model.predict(input_text_feature_extraction)\n",
        "if(prediction[0]==0):\n",
        "  print('The language is Estonian')\n",
        "elif(prediction[0]==1):\n",
        "  print('The language is Swedish')\n",
        "elif(prediction[0]==2):\n",
        "  print('The language is Thai')\n",
        "elif(prediction[0]==3):\n",
        "  print('The language is Tamil')\n",
        "elif(prediction[0]==4):\n",
        "  print('The language is Dutch')\n",
        "elif(prediction[0]==5):\n",
        "  print('The language is Japanese')\n",
        "elif(prediction[0]==6):\n",
        "  print('The language is Turkish')\n",
        "elif(prediction[0]==7):\n",
        "  print('The language is Latin')\n",
        "elif(prediction[0]==8):\n",
        "  print('The language is Urdu')\n",
        "elif(prediction[0]==9):\n",
        "  print('The language is Indonesian')\n",
        "elif(prediction[0]==10):\n",
        "  print('The language is Portugese')\n",
        "elif(prediction[0]==11):\n",
        "  print('The language is French')\n",
        "elif(prediction[0]==12):\n",
        "  print('The language is Chinese')\n",
        "elif(prediction[0]==13):\n",
        "  print('The language is Korean')\n",
        "elif(prediction[0]==14):\n",
        "  print('The language is Hindi')\n",
        "elif(prediction[0]==15):\n",
        "  print('The language is Spanish')\n",
        "elif(prediction[0]==16):\n",
        "  print('The language is Pushto')\n",
        "elif(prediction[0]==17):\n",
        "  print('The language is Persian')\n",
        "elif(prediction[0]==18):\n",
        "  print('The language is Romanian')\n",
        "elif(prediction[0]==19):\n",
        "  print('The language is Russian')\n",
        "elif(prediction[0]==20):\n",
        "  print('The language is English')\n",
        "elif(prediction[0]==21):\n",
        "  print('The language is Arabic')"
      ],
      "metadata": {
        "colab": {
          "base_uri": "https://localhost:8080/"
        },
        "id": "7CqzLZgAMuvM",
        "outputId": "1e72f442-50a6-40ba-c2b7-fb5fccab916e"
      },
      "execution_count": 27,
      "outputs": [
        {
          "output_type": "stream",
          "name": "stdout",
          "text": [
            "The language is Chinese\n"
          ]
        }
      ]
    }
  ]
}